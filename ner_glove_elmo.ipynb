{
 "cells": [
  {
   "cell_type": "code",
   "execution_count": 16,
   "metadata": {},
   "outputs": [],
   "source": [
    "import numpy as np\n",
    "import pandas as pd\n",
    "import seaborn as sns\n",
    "from keras.models import Sequential\n",
    "from keras.layers import Input, Embedding,TimeDistributed, LSTM, Dropout, Bidirectional, Dense \n",
    "from keras.preprocessing.text import Tokenizer\n",
    "from keras.preprocessing import sequence\n",
    "from keras.callbacks import EarlyStopping, ModelCheckpoint, ReduceLROnPlateau\n",
    "from tensorflow.keras.utils import plot_model, to_categorical\n",
    "import torch\n",
    "from torch.utils.data import DataLoader, TensorDataset\n",
    "import numpy as np\n",
    "import torch\n",
    "import torch.nn as nn\n",
    "import torch\n",
    "import torch.nn as nn\n",
    "import torch.optim as optim\n",
    "from torch.utils.data import DataLoader, Dataset\n",
    "from torch.utils.data import Dataset, DataLoader\n",
    "from allennlp.modules.elmo import Elmo, batch_to_ids\n",
    "from functools import partial\n",
    "import matplotlib.pyplot as plt\n",
    "from collections import Counter\n",
    "import warnings\n",
    "warnings.filterwarnings('ignore')"
   ]
  },
  {
   "cell_type": "markdown",
   "metadata": {},
   "source": [
    "В работе сравниваются результаты NER для одной архитектуры нейронной сети и двух методов создания эмбеддингов (Glove, Elmo)."
   ]
  },
  {
   "cell_type": "markdown",
   "metadata": {},
   "source": [
    "# NN using Glove embeddings"
   ]
  },
  {
   "cell_type": "markdown",
   "metadata": {},
   "source": [
    "Для создания Glove эмбеддингов используется glove.840B.300d, длина векторных представлений - 300 символов."
   ]
  },
  {
   "cell_type": "code",
   "execution_count": 4,
   "metadata": {},
   "outputs": [],
   "source": [
    "data_train = pd.read_csv('./ner_train.csv')\n",
    "data_val = pd.read_csv('./ner_val.csv')\n",
    "data_test = pd.read_csv('./ner_test.csv')"
   ]
  },
  {
   "cell_type": "code",
   "execution_count": 5,
   "metadata": {},
   "outputs": [],
   "source": [
    "def load_glove_embeddings(filepath, embedding_dim):\n",
    "    embeddings_index = {}\n",
    "    with open(filepath, 'r', encoding='utf-8') as f:\n",
    "        for line in f:\n",
    "            values = line.split()\n",
    "            if len(values) != embedding_dim + 1:\n",
    "                continue\n",
    "            word = values[0]\n",
    "            embedding = np.asarray(values[1:], dtype='float32')\n",
    "            embeddings_index[word] = embedding\n",
    "    return embeddings_index\n",
    "\n",
    "def prepare_data(df):\n",
    "    sentences = [row.split() for row in df['sentence']]\n",
    "    tags = [row.split() for row in df['tags']]\n",
    "    return sentences, tags\n",
    "\n",
    "def create_vocab_and_embeddings(sentences, glove_embeddings, embedding_dim=300):\n",
    "    vocab = {'<PAD>': 0, '<UNK>': 1}\n",
    "    for sentence in sentences:\n",
    "        for word in sentence:\n",
    "            if word not in vocab:\n",
    "                vocab[word] = len(vocab)\n",
    "    embedding_matrix = np.zeros((len(vocab), embedding_dim))\n",
    "    for word, idx in vocab.items():\n",
    "        embedding_matrix[idx] = glove_embeddings.get(word, np.random.normal(scale=0.6, size=(embedding_dim,)))\n",
    "    return vocab, embedding_matrix\n",
    "\n",
    "class GloVeNERDataset(Dataset):\n",
    "    def __init__(self, sentences, tags, vocab, tag_to_idx):\n",
    "        self.sentences = [[vocab.get(word, vocab['<UNK>']) for word in sentence] for sentence in sentences]\n",
    "        self.tags = [[tag_to_idx[tag] for tag in tag_list] for tag_list in tags]\n",
    "\n",
    "    def __len__(self):\n",
    "        return len(self.sentences)\n",
    "\n",
    "    def __getitem__(self, idx):\n",
    "        return self.sentences[idx], self.tags[idx]\n",
    "\n",
    "def collate_fn_glove(batch, tag_to_idx):\n",
    "    sentences, tags = zip(*batch)\n",
    "    for i, (sentence, tag_list) in enumerate(zip(sentences, tags)):\n",
    "        if len(sentence) != len(tag_list):\n",
    "            return None\n",
    "    max_len = max(len(sentence) for sentence in sentences)\n",
    "    padded_sentences = [sentence + [0] * (max_len - len(sentence)) for sentence in sentences]\n",
    "    padded_tags = [tag_list + [tag_to_idx['PAD']] * (max_len - len(tag_list)) for tag_list in tags]\n",
    "    tag_masks = [[1] * len(tag_list) + [0] * (max_len - len(tag_list)) for tag_list in tags]\n",
    "    return (\n",
    "        torch.tensor(padded_sentences, dtype=torch.long),\n",
    "        torch.tensor(padded_tags, dtype=torch.long),\n",
    "        torch.tensor(tag_masks, dtype=torch.bool),\n",
    "    )"
   ]
  },
  {
   "cell_type": "code",
   "execution_count": 6,
   "metadata": {},
   "outputs": [],
   "source": [
    "class GloVeNERModel(nn.Module):\n",
    "    def __init__(self, embedding_matrix, config, tagset_size):\n",
    "        super(GloVeNERModel, self).__init__()\n",
    "        self.embedding = nn.Embedding.from_pretrained(torch.tensor(embedding_matrix, dtype=torch.float), freeze=False)\n",
    "        self.lstm = nn.LSTM(\n",
    "            input_size=embedding_matrix.shape[1],\n",
    "            hidden_size=config.N_LSTM_CELLS,\n",
    "            batch_first=True,\n",
    "            dropout=config.RECURRENT_DROPOUT,\n",
    "            bidirectional=False,\n",
    "        )\n",
    "        self.fc = nn.Linear(config.N_LSTM_CELLS, tagset_size)\n",
    "        self.activation = nn.Softmax(dim=-1)\n",
    "\n",
    "    def forward(self, sentences):\n",
    "        embeddings = self.embedding(sentences)\n",
    "        lstm_output, _ = self.lstm(embeddings)\n",
    "        output = self.fc(lstm_output)\n",
    "        output = self.activation(output)\n",
    "        return output\n",
    "    \n",
    "def create_tag_mapping(tags):\n",
    "    unique_tags = set(tag for tag_list in tags for tag in tag_list)\n",
    "    unique_tags.add('PAD')  # Add PAD token to the unique tags\n",
    "    tag_to_idx = {tag: idx for idx, tag in enumerate(unique_tags)}\n",
    "    idx_to_tag = {idx: tag for tag, idx in tag_to_idx.items()}\n",
    "    return tag_to_idx, idx_to_tag\n"
   ]
  },
  {
   "cell_type": "code",
   "execution_count": 7,
   "metadata": {},
   "outputs": [],
   "source": [
    "def train_model(model, dataloader, criterion, optimizer, num_epochs, val_dataloader):\n",
    "    model.train()\n",
    "    for epoch in range(num_epochs):\n",
    "        model.train()\n",
    "        total_loss = 0\n",
    "        for i, batch in enumerate(dataloader):\n",
    "            if batch is None:\n",
    "                continue\n",
    "            character_ids, padded_tags, tag_masks = batch\n",
    "            character_ids = character_ids.cuda()\n",
    "            padded_tags = padded_tags.cuda()\n",
    "            tag_masks = tag_masks.cuda()\n",
    "            \n",
    "            optimizer.zero_grad()\n",
    "            outputs = model(character_ids)  # Shape: [batch_size, max_len, tagset_size]\n",
    "            \n",
    "            # Reshape for loss calculation\n",
    "            outputs = outputs.view(-1, tagset_size)  # Shape: [batch_size * max_len, tagset_size]\n",
    "            targets = padded_tags.view(-1)  # Shape: [batch_size * max_len]\n",
    "            masks = tag_masks.view(-1).bool()  # Shape: [batch_size * max_len]\n",
    "            \n",
    "            # Apply the mask to filter out padding\n",
    "            outputs = outputs[masks]\n",
    "            targets = targets[masks]\n",
    "            \n",
    "            # print(outputs.size())\n",
    "            # print(targets)\n",
    "            \n",
    "            loss = criterion(outputs, targets)\n",
    "            loss.backward()\n",
    "            optimizer.step()\n",
    "            \n",
    "            total_loss += loss.item()\n",
    "        \n",
    "        print(f\"Epoch {epoch + 1}/{num_epochs}, Loss: {total_loss / len(dataloader)}\")\n",
    "        \n",
    "        # Validation step\n",
    "        validate_model(model, val_dataloader, criterion)\n",
    "\n",
    "def validate_model(model, dataloader, criterion):\n",
    "    model.eval()\n",
    "    val_loss = 0\n",
    "    with torch.no_grad():\n",
    "        for i, batch in enumerate(dataloader):\n",
    "            if batch is None:\n",
    "                continue\n",
    "            character_ids, padded_tags, tag_masks = batch\n",
    "            character_ids = character_ids.cuda()\n",
    "            padded_tags = padded_tags.cuda()\n",
    "            tag_masks = tag_masks.cuda()\n",
    "            \n",
    "            outputs = model(character_ids)\n",
    "            \n",
    "            # Reshape for loss calculation\n",
    "            outputs = outputs.view(-1, tagset_size)\n",
    "            targets = padded_tags.view(-1)\n",
    "            masks = tag_masks.view(-1).bool()\n",
    "            \n",
    "            outputs = outputs[masks]\n",
    "            targets = targets[masks]\n",
    "            \n",
    "            loss = criterion(outputs, targets)\n",
    "            val_loss += loss.item()\n",
    "    \n",
    "    print(f\"Validation Loss: {val_loss / len(dataloader)}\")\n",
    "    \n",
    "def test_model(model, dataloader, criterion):\n",
    "    model.eval()\n",
    "    test_loss = 0\n",
    "    total_correct = 0\n",
    "    total_correct_exc15 = 0\n",
    "    total_elements = 0\n",
    "\n",
    "    with torch.no_grad():\n",
    "        for i, batch in enumerate(dataloader):\n",
    "            if batch is None:\n",
    "                continue\n",
    "            character_ids, padded_tags, tag_masks = batch\n",
    "            character_ids = character_ids.cuda()\n",
    "            padded_tags = padded_tags.cuda()\n",
    "            tag_masks = tag_masks.cuda()\n",
    "\n",
    "            outputs = model(character_ids)\n",
    "\n",
    "            outputs = outputs.view(-1, tagset_size)  # Shape: [batch_size * max_len, tagset_size]\n",
    "            targets = padded_tags.view(-1)           # Shape: [batch_size * max_len]\n",
    "            masks = tag_masks.view(-1).bool()        # Shape: [batch_size * max_len]\n",
    "\n",
    "            outputs = outputs[masks]\n",
    "            targets = targets[masks]\n",
    "\n",
    "            loss = criterion(outputs, targets)\n",
    "            test_loss += loss.item()\n",
    "\n",
    "            # Get predicted labels\n",
    "            predictions = torch.argmax(outputs, dim=1)  # Get the index of the max logit (predicted label)\n",
    "\n",
    "            # Exclude tag 15 for accuracy calculation\n",
    "            valid_mask = targets != 15\n",
    "            predictions_exc15 = predictions[valid_mask]\n",
    "            targets_exc15 = targets[valid_mask]\n",
    "            \n",
    "            # Calculate accuracy\n",
    "            total_correct_exc15 += (predictions_exc15 == targets_exc15).sum().item()\n",
    "            total_correct += (predictions == targets).sum().item()\n",
    "            total_elements += targets.size(0)\n",
    "\n",
    "    accuracy_exc15 = total_correct_exc15 / total_elements if total_elements > 0 else 0\n",
    "    accuracy = total_correct / total_elements if total_elements > 0 else 0\n",
    "    print(f\"Test Loss: {test_loss / len(dataloader)}\")\n",
    "    print(f\"Test Accuracy (excluding tag 15): {accuracy_exc15 * 100:.2f}%\")\n",
    "    print(f\"Test Accuracy (total): {accuracy * 100:.2f}%\")"
   ]
  },
  {
   "cell_type": "code",
   "execution_count": 8,
   "metadata": {},
   "outputs": [],
   "source": [
    "train_sentences, train_tags = prepare_data(data_train)\n",
    "val_sentences, val_tags = prepare_data(data_val)\n",
    "test_sentences, test_tags = prepare_data(data_test)"
   ]
  },
  {
   "cell_type": "code",
   "execution_count": 9,
   "metadata": {},
   "outputs": [],
   "source": [
    "glove_filepath = './glove.840B.300d.txt'\n",
    "embedding_dim = 300\n",
    "glove_embeddings = load_glove_embeddings(glove_filepath, embedding_dim)"
   ]
  },
  {
   "cell_type": "code",
   "execution_count": 10,
   "metadata": {},
   "outputs": [],
   "source": [
    "sentences = train_sentences + val_sentences + test_sentences\n",
    "vocab, embedding_matrix = create_vocab_and_embeddings(sentences, glove_embeddings, embedding_dim)"
   ]
  },
  {
   "cell_type": "code",
   "execution_count": 11,
   "metadata": {},
   "outputs": [],
   "source": [
    "all_tags = train_tags + val_tags + test_tags\n",
    "tag_to_idx, idx_to_tag = create_tag_mapping(all_tags)\n",
    "tagset_size = len(tag_to_idx)"
   ]
  },
  {
   "cell_type": "code",
   "execution_count": 12,
   "metadata": {},
   "outputs": [],
   "source": [
    "if 'PAD' in tag_to_idx:\n",
    "    tag_to_idx['PAD'] = -1\n",
    "idx_to_tag = {idx: tag for tag, idx in tag_to_idx.items() if idx != -1}"
   ]
  },
  {
   "cell_type": "code",
   "execution_count": 12,
   "metadata": {},
   "outputs": [],
   "source": [
    "train_dataset = GloVeNERDataset(train_sentences, train_tags, vocab, tag_to_idx)\n",
    "val_dataset = GloVeNERDataset(val_sentences, val_tags, vocab, tag_to_idx)\n",
    "test_dataset = GloVeNERDataset(test_sentences, test_tags, vocab, tag_to_idx)\n",
    "\n",
    "train_dataloader = DataLoader(train_dataset, batch_size=32, shuffle=True, collate_fn=partial(collate_fn_glove, tag_to_idx=tag_to_idx))\n",
    "val_dataloader = DataLoader(val_dataset, batch_size=32, shuffle=False, collate_fn=partial(collate_fn_glove, tag_to_idx=tag_to_idx))\n",
    "test_dataloader = DataLoader(test_dataset, batch_size=32, shuffle=False, collate_fn=partial(collate_fn_glove, tag_to_idx=tag_to_idx))"
   ]
  },
  {
   "cell_type": "code",
   "execution_count": 13,
   "metadata": {},
   "outputs": [
    {
     "name": "stdout",
     "output_type": "stream",
     "text": [
      "Epoch 1/10, Loss: 2.1115402330250617\n",
      "Validation Loss: 2.051425004005432\n",
      "Epoch 2/10, Loss: 2.0265325519619037\n",
      "Validation Loss: 2.0230294386545817\n",
      "Epoch 3/10, Loss: 2.007142096782745\n",
      "Validation Loss: 2.0114891068140666\n",
      "Epoch 4/10, Loss: 2.0012206985514993\n",
      "Validation Loss: 2.0098211431503294\n",
      "Epoch 5/10, Loss: 1.9982723959094788\n",
      "Validation Loss: 2.007419691880544\n",
      "Epoch 6/10, Loss: 1.9943636666744127\n",
      "Validation Loss: 2.0061675469080607\n",
      "Epoch 7/10, Loss: 1.9925597667495243\n",
      "Validation Loss: 2.006038973331451\n",
      "Epoch 8/10, Loss: 1.991268030298661\n",
      "Validation Loss: 2.005744727452596\n",
      "Epoch 9/10, Loss: 1.9903534077126548\n",
      "Validation Loss: 2.005957535902659\n",
      "Epoch 10/10, Loss: 1.9894468462198749\n",
      "Validation Loss: 2.005628924369812\n"
     ]
    }
   ],
   "source": [
    "class Config:\n",
    "    MAX_LEN = 50\n",
    "    EMBEDDING_VECTOR_LENGTH = 1024\n",
    "    N_LSTM_CELLS = 64\n",
    "    RECURRENT_DROPOUT = 0.1\n",
    "    LOSS = nn.CrossEntropyLoss()\n",
    "    OPTIMIZER = 'adam'\n",
    "    MAX_EPOCHS = 10\n",
    "\n",
    "config = Config()\n",
    "tagset_size = len(tag_to_idx)\n",
    "model = GloVeNERModel(embedding_matrix, config, tagset_size)\n",
    "criterion = nn.CrossEntropyLoss(ignore_index=-1)\n",
    "optimizer = optim.Adam(model.parameters(), lr=1e-3)\n",
    "\n",
    "model.cuda()\n",
    "train_model(model, train_dataloader, criterion, optimizer, num_epochs=config.MAX_EPOCHS, val_dataloader=val_dataloader)"
   ]
  },
  {
   "cell_type": "code",
   "execution_count": 14,
   "metadata": {},
   "outputs": [
    {
     "name": "stdout",
     "output_type": "stream",
     "text": [
      "Test Loss: 1.9898181104660033\n",
      "Test Accuracy (excluding tag 15): 93.26%\n",
      "Test Accuracy (total): 96.51%\n"
     ]
    }
   ],
   "source": [
    "test_model(model, test_dataloader, criterion)"
   ]
  },
  {
   "cell_type": "markdown",
   "metadata": {},
   "source": [
    "Распределение классов (исключая самый частый нулевой класс 'O')"
   ]
  },
  {
   "cell_type": "code",
   "execution_count": 19,
   "metadata": {},
   "outputs": [
    {
     "data": {
      "image/png": "[encoded data removed]",
      "text/plain": [
       "<Figure size 720x432 with 1 Axes>"
      ]
     },
     "metadata": {
      "needs_background": "light"
     },
     "output_type": "display_data"
    }
   ],
   "source": [
    "flattened_tags = [tag for sequence in all_tags for tag in sequence if tag != 'O']\n",
    "tag_counts = Counter(flattened_tags)\n",
    "tags = list(tag_counts.keys())\n",
    "counts = list(tag_counts.values())\n",
    "plt.figure(figsize=(10, 6))\n",
    "plt.bar(tags, counts, color='skyblue', edgecolor='black')\n",
    "plt.title('Tag Frequency Distribution', fontsize=14)\n",
    "plt.xlabel('Tags', fontsize=12)\n",
    "plt.ylabel('Frequency', fontsize=12)\n",
    "plt.xticks(rotation=45)\n",
    "plt.tight_layout()\n",
    "plt.show()"
   ]
  },
  {
   "cell_type": "markdown",
   "metadata": {},
   "source": [
    "Model Architecture"
   ]
  },
  {
   "cell_type": "markdown",
   "metadata": {},
   "source": [
    "Embedding -> LSTM -> Linear -> Softmax"
   ]
  },
  {
   "cell_type": "markdown",
   "metadata": {},
   "source": [
    "Обучение проводилось на 10 эпохах, с использованием CrossEntropyLoss. Полученные результаты: test accuracy (except tag 15) = 0.93 (tag 15 это символ 'O', наиболее частый тэг, обозначающий отсутствие класса у слова). Total test accuracy = 0.97."
   ]
  },
  {
   "cell_type": "markdown",
   "metadata": {},
   "source": [
    "# NN Using Elmo Embeddings"
   ]
  },
  {
   "cell_type": "markdown",
   "metadata": {},
   "source": [
    "Второй подход - использование такой же архитектуры модели, но с другими эмбеддингами - Elmo. Эмбеддинги Glove фиксированы для каждого слова, Elmo эмбеддинги (используя Allennlp библиотеку) задаются в зависимости от контекста. Ожидается, что этот поход кодирования слов даст лучший результат в задаче NER, учитывая контекст."
   ]
  },
  {
   "cell_type": "code",
   "execution_count": 15,
   "metadata": {},
   "outputs": [],
   "source": [
    "class NERDataset(Dataset):\n",
    "    def __init__(self, sentences, tags):\n",
    "        self.sentences = sentences\n",
    "        self.tags = tags\n",
    "\n",
    "    def __len__(self):\n",
    "        return len(self.sentences)\n",
    "\n",
    "    def __getitem__(self, idx):\n",
    "        return self.sentences[idx], self.tags[idx]\n",
    "\n",
    "def collate_fn(batch, tag_to_idx):\n",
    "    sentences, tags = zip(*batch)\n",
    "    for i, (sentence, tag_list) in enumerate(zip(sentences, tags)):\n",
    "        if len(sentence) != len(tag_list):\n",
    "            return None\n",
    "    character_ids = batch_to_ids(sentences)  # Shape: [batch_size, max_len, char_dim]\n",
    "    max_len = max(len(sentence) for sentence in sentences)\n",
    "    padded_tags = []\n",
    "    tag_masks = []\n",
    "    for tag_list in tags:\n",
    "        padded_tags.append(tag_list + ['PAD'] * (max_len - len(tag_list)))\n",
    "        tag_masks.append([1] * len(tag_list) + [0] * (max_len - len(tag_list)))\n",
    "    padded_tags = torch.tensor([[tag_to_idx.get(tag, -1) for tag in tag_list] for tag_list in padded_tags])\n",
    "    tag_masks = torch.tensor(tag_masks)\n",
    "    return character_ids, padded_tags, tag_masks\n",
    "\n",
    "class SequenceTaggingModel(nn.Module):\n",
    "    def __init__(self, elmo_options_file, elmo_weight_file, config, tagset_size):\n",
    "        super(SequenceTaggingModel, self).__init__()\n",
    "        self.elmo = Elmo(elmo_options_file, elmo_weight_file, num_output_representations=1, dropout=0)\n",
    "        self.lstm = nn.LSTM(\n",
    "            input_size=config.EMBEDDING_VECTOR_LENGTH,\n",
    "            hidden_size=config.N_LSTM_CELLS,\n",
    "            batch_first=True,\n",
    "            dropout=config.RECURRENT_DROPOUT,\n",
    "            bidirectional=False\n",
    "        )\n",
    "        self.fc = nn.Linear(config.N_LSTM_CELLS, tagset_size)\n",
    "        self.activation = nn.Softmax(dim=-1)\n",
    "\n",
    "    def forward(self, character_ids):\n",
    "        elmo_output = self.elmo(character_ids)\n",
    "        elmo_embeddings = elmo_output['elmo_representations'][0]\n",
    "        lstm_output, _ = self.lstm(elmo_embeddings)\n",
    "        output = self.fc(lstm_output)\n",
    "        output = self.activation(output)\n",
    "        return output\n"
   ]
  },
  {
   "cell_type": "code",
   "execution_count": 16,
   "metadata": {},
   "outputs": [],
   "source": [
    "train_dataset = NERDataset(train_sentences, train_tags)\n",
    "val_dataset = NERDataset(val_sentences, val_tags)\n",
    "test_dataset = NERDataset(test_sentences, test_tags)"
   ]
  },
  {
   "cell_type": "code",
   "execution_count": 17,
   "metadata": {},
   "outputs": [],
   "source": [
    "from functools import partial\n",
    "collate_fn_with_mapping = partial(collate_fn, tag_to_idx=tag_to_idx)\n",
    "train_dataloader = DataLoader(train_dataset, batch_size=32, shuffle=False, collate_fn=collate_fn_with_mapping, drop_last=True)\n",
    "val_dataloader = DataLoader(val_dataset, batch_size=32, shuffle=False, collate_fn=collate_fn_with_mapping, drop_last=True)\n",
    "test_dataloader = DataLoader(test_dataset, batch_size=32, shuffle=False, collate_fn=collate_fn_with_mapping, drop_last=True)"
   ]
  },
  {
   "cell_type": "code",
   "execution_count": 18,
   "metadata": {},
   "outputs": [],
   "source": [
    "elmo_options_file = './elmo_options.json'\n",
    "elmo_weight_file = './elmo_2x4096_512_2048cnn_2xhighway_weights.hdf5'\n",
    "config = Config()\n",
    "model = SequenceTaggingModel(elmo_options_file, elmo_weight_file, config, tagset_size)\n",
    "criterion = nn.CrossEntropyLoss(ignore_index=-1)\n",
    "optimizer = optim.Adam(model.parameters(), lr=1e-3)"
   ]
  },
  {
   "cell_type": "code",
   "execution_count": 19,
   "metadata": {},
   "outputs": [
    {
     "name": "stdout",
     "output_type": "stream",
     "text": [
      "Epoch 1/10, Loss: 2.119515543389997\n",
      "Validation Loss: 2.1038539969681094\n",
      "Epoch 2/10, Loss: 2.0471562171022164\n",
      "Validation Loss: 2.03397772616188\n",
      "Epoch 3/10, Loss: 2.027056196695178\n",
      "Validation Loss: 2.0286244658015717\n",
      "Epoch 4/10, Loss: 2.008199311158494\n",
      "Validation Loss: 2.0079881288861268\n",
      "Epoch 5/10, Loss: 2.002235444638884\n",
      "Validation Loss: 2.007206795999668\n",
      "Epoch 6/10, Loss: 2.0001234710714058\n",
      "Validation Loss: 2.006040797137574\n",
      "Epoch 7/10, Loss: 1.9986134168500693\n",
      "Validation Loss: 2.0054536633843543\n",
      "Epoch 8/10, Loss: 1.997613801184003\n",
      "Validation Loss: 2.005131323065534\n",
      "Epoch 9/10, Loss: 1.9967067366052351\n",
      "Validation Loss: 2.0045890704097364\n",
      "Epoch 10/10, Loss: 1.9959331767785928\n",
      "Validation Loss: 2.004675412338052\n"
     ]
    }
   ],
   "source": [
    "model.cuda()\n",
    "train_model(model, train_dataloader, criterion, optimizer, num_epochs=config.MAX_EPOCHS, val_dataloader=val_dataloader)"
   ]
  },
  {
   "cell_type": "code",
   "execution_count": 20,
   "metadata": {},
   "outputs": [
    {
     "name": "stdout",
     "output_type": "stream",
     "text": [
      "Test Loss: 1.9895344764594263\n",
      "Test Accuracy (excluding tag 15): 93.10%\n",
      "Test Accuracy (total): 96.51%\n"
     ]
    }
   ],
   "source": [
    "test_model(model, test_dataloader, criterion)"
   ]
  },
  {
   "cell_type": "markdown",
   "metadata": {},
   "source": [
    "Результаты для второй модели (с Elmo эмбеддингами) практически совпадают с результатами для Glove эмбеддингов. Test Accuracy (excluding tag 15) = 0.93, total test accuracy = 0.97. Отсутствие улучшения результотов в сравнении с контексто-независимыми эмбеддингами Glove может быть объяснено тем, что в текстах, на которых проводится обучение и тестируется модель мало примеров двойного значения слов."
   ]
  },
  {
   "cell_type": "markdown",
   "metadata": {},
   "source": [
    "# Conclusion"
   ]
  },
  {
   "cell_type": "markdown",
   "metadata": {},
   "source": [
    "Для обеих моделей (Glove/Elmo embeddings) получены близкие результаты total accuracy = 0.97. При использовании эмбеддингов Elmo, которые учитывают контекст слова в предложении, не получено значительных улучшений метрики в сравнении с Glove embedding."
   ]
  },
  {
   "cell_type": "code",
   "execution_count": null,
   "metadata": {},
   "outputs": [],
   "source": []
  }
 ],
 "metadata": {
  "kernelspec": {
   "display_name": "allennlp_env1",
   "language": "python",
   "name": "python3"
  },
  "language_info": {
   "codemirror_mode": {
    "name": "ipython",
    "version": 3
   },
   "file_extension": ".py",
   "mimetype": "text/x-python",
   "name": "python",
   "nbconvert_exporter": "python",
   "pygments_lexer": "ipython3",
   "version": "3.6.13"
  }
 },
 "nbformat": 4,
 "nbformat_minor": 2
}
